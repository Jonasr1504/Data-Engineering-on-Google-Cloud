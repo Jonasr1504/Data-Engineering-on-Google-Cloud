{
 "cells": [
  {
   "cell_type": "code",
   "execution_count": 4,
   "id": "9e69924a-3a41-49b9-9d1f-baf80c4f012b",
   "metadata": {},
   "outputs": [
    {
     "ename": "SyntaxError",
     "evalue": "Missing parentheses in call to 'print'. Did you mean print(...)? (3252308586.py, line 1)",
     "output_type": "error",
     "traceback": [
      "\u001b[0;36m  Cell \u001b[0;32mIn[4], line 1\u001b[0;36m\u001b[0m\n\u001b[0;31m    print\"hello\"\u001b[0m\n\u001b[0m    ^\u001b[0m\n\u001b[0;31mSyntaxError\u001b[0m\u001b[0;31m:\u001b[0m Missing parentheses in call to 'print'. Did you mean print(...)?\n"
     ]
    }
   ],
   "source": [
    "print\"hello\" "
   ]
  },
  {
   "cell_type": "code",
   "execution_count": 6,
   "id": "ca9872ec-81aa-476e-b638-f02465989033",
   "metadata": {},
   "outputs": [
    {
     "ename": "SyntaxError",
     "evalue": "invalid syntax (2037473308.py, line 1)",
     "output_type": "error",
     "traceback": [
      "\u001b[0;36m  Cell \u001b[0;32mIn[6], line 1\u001b[0;36m\u001b[0m\n\u001b[0;31m    Print(`Hello`)\u001b[0m\n\u001b[0m          ^\u001b[0m\n\u001b[0;31mSyntaxError\u001b[0m\u001b[0;31m:\u001b[0m invalid syntax\n"
     ]
    }
   ],
   "source": [
    "Print(`Hello`)"
   ]
  },
  {
   "cell_type": "code",
   "execution_count": 7,
   "id": "213955bf-ea01-4361-a595-95f6ae09da0e",
   "metadata": {},
   "outputs": [
    {
     "name": "stdout",
     "output_type": "stream",
     "text": [
      "Hello, world!\n"
     ]
    }
   ],
   "source": [
    "print('Hello, world!')\n"
   ]
  },
  {
   "cell_type": "code",
   "execution_count": 8,
   "id": "11d58d49-27ae-4e16-9ade-3c239d827caa",
   "metadata": {},
   "outputs": [
    {
     "name": "stdout",
     "output_type": "stream",
     "text": [
      "This line will be printed.\n"
     ]
    }
   ],
   "source": [
    "print(\"This line will be printed.\")\n"
   ]
  },
  {
   "cell_type": "code",
   "execution_count": null,
   "id": "695191fd-c4d7-4840-a583-71be3cf300cc",
   "metadata": {},
   "outputs": [],
   "source": []
  }
 ],
 "metadata": {
  "kernelspec": {
   "display_name": "Python 3 (ipykernel)",
   "language": "python",
   "name": "python3"
  },
  "language_info": {
   "codemirror_mode": {
    "name": "ipython",
    "version": 3
   },
   "file_extension": ".py",
   "mimetype": "text/x-python",
   "name": "python",
   "nbconvert_exporter": "python",
   "pygments_lexer": "ipython3",
   "version": "3.10.13"
  }
 },
 "nbformat": 4,
 "nbformat_minor": 5
}
